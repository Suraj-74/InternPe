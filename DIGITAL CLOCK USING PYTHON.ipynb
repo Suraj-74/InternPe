{
 "cells": [
  {
   "cell_type": "markdown",
   "id": "a40eb319",
   "metadata": {},
   "source": [
    "# INTERNPE TASK BY SURAJ YADAV"
   ]
  },
  {
   "cell_type": "markdown",
   "id": "cc2d4741",
   "metadata": {},
   "source": [
    "\n",
    "# BUILD A DIGITAL CLOCK"
   ]
  },
  {
   "cell_type": "code",
   "execution_count": 80,
   "id": "1bb64cb6",
   "metadata": {},
   "outputs": [],
   "source": [
    "from tkinter import Tk\n",
    "# from tkinter module importing a Tk toolkit\n",
    "from tkinter import Label\n",
    "# from tkinter module importing a Label"
   ]
  },
  {
   "cell_type": "code",
   "execution_count": 81,
   "id": "5c5e0251",
   "metadata": {},
   "outputs": [],
   "source": [
    "import time\n",
    "# importing a time module"
   ]
  },
  {
   "cell_type": "code",
   "execution_count": 82,
   "id": "6b5f638b",
   "metadata": {},
   "outputs": [],
   "source": [
    "# making a waindow\n",
    "root=Tk()  # root is the variable in which i storing a window"
   ]
  },
  {
   "cell_type": "code",
   "execution_count": 83,
   "id": "36393c9f",
   "metadata": {},
   "outputs": [
    {
     "data": {
      "text/plain": [
       "''"
      ]
     },
     "execution_count": 83,
     "metadata": {},
     "output_type": "execute_result"
    }
   ],
   "source": [
    "root.title(\"Digital Clock\") # title give to that window"
   ]
  },
  {
   "cell_type": "code",
   "execution_count": 84,
   "id": "5de698a3",
   "metadata": {},
   "outputs": [],
   "source": [
    "# creating a function to showing a current time\n",
    "def update_time():\n",
    "    display_time = time.strftime(\"%I:%M:%S %p\")   # for 13 14 replace I by H(hours)\n",
    "    digi_clock.config(text=display_time)\n",
    "    digi_clock.after(200,pres_time)"
   ]
  },
  {
   "cell_type": "code",
   "execution_count": 85,
   "id": "e9d3bb51",
   "metadata": {},
   "outputs": [],
   "source": [
    "digi_clock=Label(root, font=(\"calibri\", 60, \"bold\"), bg=\"purple\", fg=\"white\") "
   ]
  },
  {
   "cell_type": "code",
   "execution_count": 86,
   "id": "04da4ef2",
   "metadata": {},
   "outputs": [],
   "source": [
    "digi_clock.pack(anchor=\"center\") # center it within the window in a block"
   ]
  },
  {
   "cell_type": "code",
   "execution_count": 87,
   "id": "ccd78de5",
   "metadata": {},
   "outputs": [],
   "source": [
    "update_time() # calling a function"
   ]
  },
  {
   "cell_type": "code",
   "execution_count": 89,
   "id": "77e99992",
   "metadata": {},
   "outputs": [],
   "source": [
    "root.mainloop() # start the loop for showing a clock"
   ]
  },
  {
   "cell_type": "code",
   "execution_count": null,
   "id": "cf0e8e6c",
   "metadata": {},
   "outputs": [],
   "source": []
  }
 ],
 "metadata": {
  "kernelspec": {
   "display_name": "Python 3 (ipykernel)",
   "language": "python",
   "name": "python3"
  },
  "language_info": {
   "codemirror_mode": {
    "name": "ipython",
    "version": 3
   },
   "file_extension": ".py",
   "mimetype": "text/x-python",
   "name": "python",
   "nbconvert_exporter": "python",
   "pygments_lexer": "ipython3",
   "version": "3.9.13"
  }
 },
 "nbformat": 4,
 "nbformat_minor": 5
}

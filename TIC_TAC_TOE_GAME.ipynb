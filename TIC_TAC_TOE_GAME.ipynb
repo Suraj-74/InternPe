{
 "cells": [
  {
   "cell_type": "code",
   "execution_count": 1,
   "id": "6395e7a6",
   "metadata": {},
   "outputs": [],
   "source": [
    "# Importing Module\n",
    "import time"
   ]
  },
  {
   "cell_type": "code",
   "execution_count": 8,
   "id": "e8c32ea0",
   "metadata": {},
   "outputs": [],
   "source": [
    "# Initialize the board\n",
    "def board():\n",
    "    board = [' ']*9\n",
    "    return board"
   ]
  },
  {
   "cell_type": "code",
   "execution_count": 9,
   "id": "016093da",
   "metadata": {},
   "outputs": [],
   "source": [
    "# Print the board\n",
    "def print_board(board):\n",
    "    print('-------------')\n",
    "    print('| ' + board[0] + ' | ' + board[1] + ' | ' + board[2] + ' |')\n",
    "    print('-------------')\n",
    "    print('| ' + board[3] + ' | ' + board[4] + ' | ' + board[5] + ' |')\n",
    "    print('-------------')\n",
    "    print('| ' + board[6] + ' | ' + board[7] + ' | ' + board[8] + ' |')\n",
    "    print('-------------')"
   ]
  },
  {
   "cell_type": "code",
   "execution_count": 10,
   "id": "26a4e776",
   "metadata": {},
   "outputs": [],
   "source": [
    "# Get player's move\n",
    "def player_move(board, player):\n",
    "    valid_move = False\n",
    "    while not valid_move:\n",
    "        move = input(f\"{player}'s turn. Choose a position (1-9): \")\n",
    "        if move.isdigit() and 1 <= int(move) <= 9 and board[int(move)-1] == ' ':\n",
    "            return int(move)-1\n",
    "        else:\n",
    "            print(\"Invalid move. Please try again.\")"
   ]
  },
  {
   "cell_type": "code",
   "execution_count": 11,
   "id": "be6d0a37",
   "metadata": {},
   "outputs": [],
   "source": [
    "# Check if game is over\n",
    "def game_over(board):\n",
    "    # check rows\n",
    "    for i in range(0, 9, 3):\n",
    "        if board[i] == board[i+1] == board[i+2] != ' ':\n",
    "            return True, board[i]\n",
    "    # check columns\n",
    "    for i in range(3):\n",
    "        if board[i] == board[i+3] == board[i+6] != ' ':\n",
    "            return True, board[i]\n",
    "    # check diagonals\n",
    "    if board[0] == board[4] == board[8] != ' ':\n",
    "        return True, board[0]\n",
    "    if board[2] == board[4] == board[6] != ' ':\n",
    "        return True, board[2]\n",
    "    # check tie\n",
    "    if ' ' not in board:\n",
    "        return True, 'Tie'\n",
    "    return False, None"
   ]
  },
  {
   "cell_type": "code",
   "execution_count": 13,
   "id": "9f77c294",
   "metadata": {},
   "outputs": [],
   "source": [
    "# Main game loop\n",
    "def play_game():\n",
    "    print(\"Welcome to Tic Tac Toe!\")\n",
    "    time.sleep(1)\n",
    "    play_again = True\n",
    "    while play_again:\n",
    "        # initialize the board and other variables\n",
    "        board = initialize_board()\n",
    "        players = ['X', 'O']\n",
    "        current_player = players[0]\n",
    "        winner = False\n",
    "        game_over = False\n",
    "        # game loop\n",
    "        while not game_over:\n",
    "            print_board(board)\n",
    "            move = get_player_move(board, current_player)\n",
    "            board[move] = current_player\n",
    "            game_over, winner = is_game_over(board)\n",
    "            if game_over:\n",
    "                if winner != 'Tie':\n",
    "                    print_board(board)\n",
    "                    print(f'Player {winner} wins!')\n",
    "                else:\n",
    "                    print_board(board)\n",
    "                    print('It is a tie!')\n",
    "            else:\n",
    "                current_player = players[(players.index(current_player)+1)%2]\n",
    "        # ask player if they want to play again\n",
    "        play_again = input('Do you want to play again? (yes/no)').lower() == 'y'\n",
    "    print('Thanks for playing!')"
   ]
  },
  {
   "cell_type": "code",
   "execution_count": 12,
   "id": "5d710291",
   "metadata": {},
   "outputs": [
    {
     "name": "stdout",
     "output_type": "stream",
     "text": [
      "Welcome to Tic Tac Toe!\n",
      "-------------\n",
      "|   |   |   |\n",
      "-------------\n",
      "|   |   |   |\n",
      "-------------\n",
      "|   |   |   |\n",
      "-------------\n",
      "X's turn. Choose a position (1-9): 1\n",
      "-------------\n",
      "| X |   |   |\n",
      "-------------\n",
      "|   |   |   |\n",
      "-------------\n",
      "|   |   |   |\n",
      "-------------\n",
      "O's turn. Choose a position (1-9): 2\n",
      "-------------\n",
      "| X | O |   |\n",
      "-------------\n",
      "|   |   |   |\n",
      "-------------\n",
      "|   |   |   |\n",
      "-------------\n",
      "X's turn. Choose a position (1-9): 7\n",
      "-------------\n",
      "| X | O |   |\n",
      "-------------\n",
      "|   |   |   |\n",
      "-------------\n",
      "| X |   |   |\n",
      "-------------\n",
      "O's turn. Choose a position (1-9): 4\n",
      "-------------\n",
      "| X | O |   |\n",
      "-------------\n",
      "| O |   |   |\n",
      "-------------\n",
      "| X |   |   |\n",
      "-------------\n",
      "X's turn. Choose a position (1-9): 9\n",
      "-------------\n",
      "| X | O |   |\n",
      "-------------\n",
      "| O |   |   |\n",
      "-------------\n",
      "| X |   | X |\n",
      "-------------\n",
      "O's turn. Choose a position (1-9): 8\n",
      "-------------\n",
      "| X | O |   |\n",
      "-------------\n",
      "| O |   |   |\n",
      "-------------\n",
      "| X | O | X |\n",
      "-------------\n",
      "X's turn. Choose a position (1-9): 5\n",
      "-------------\n",
      "| X | O |   |\n",
      "-------------\n",
      "| O | X |   |\n",
      "-------------\n",
      "| X | O | X |\n",
      "-------------\n",
      "Player X wins!\n",
      "Do you want to play again? (y/n)n\n",
      "Thanks for playing!\n"
     ]
    }
   ],
   "source": [
    "# Start the game\n",
    "play_game()"
   ]
  },
  {
   "cell_type": "code",
   "execution_count": null,
   "id": "142f7401",
   "metadata": {},
   "outputs": [],
   "source": []
  }
 ],
 "metadata": {
  "kernelspec": {
   "display_name": "Python 3 (ipykernel)",
   "language": "python",
   "name": "python3"
  },
  "language_info": {
   "codemirror_mode": {
    "name": "ipython",
    "version": 3
   },
   "file_extension": ".py",
   "mimetype": "text/x-python",
   "name": "python",
   "nbconvert_exporter": "python",
   "pygments_lexer": "ipython3",
   "version": "3.9.13"
  }
 },
 "nbformat": 4,
 "nbformat_minor": 5
}
